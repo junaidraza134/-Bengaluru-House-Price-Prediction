{
 "cells": [
  {
   "cell_type": "code",
   "execution_count": 1,
   "id": "aab9a1a4-4b33-4a9a-99d6-5f46c63228fc",
   "metadata": {},
   "outputs": [],
   "source": [
    "\n",
    "import pandas as pd\n",
    "import numpy as np\n",
    "from sklearn.model_selection import train_test_split, GridSearchCV\n",
    "from sklearn.linear_model import LinearRegression, Ridge, Lasso\n",
    "from sklearn.ensemble import RandomForestRegressor, GradientBoostingRegressor\n",
    "from sklearn.metrics import r2_score, mean_squared_error\n",
    "from sklearn.preprocessing import OneHotEncoder\n",
    "from sklearn.pipeline import Pipeline\n",
    "import joblib\n",
    "\n",
    "# Load and clean data\n",
    "df = pd.read_csv(\"bengaluru_house_prices.csv\")\n",
    "df = df.drop(['area_type', 'availability', 'society'], axis=1)\n",
    "df = df.dropna()\n",
    "\n",
    "# Feature engineering\n",
    "df['bhk'] = df['size'].apply(lambda x: int(x.split(' ')[0]))\n",
    "df = df.drop(['size'], axis=1)\n",
    "\n",
    "def convert_sqft(x):\n",
    "    try:\n",
    "        return float(x)\n",
    "    except:\n",
    "        if '-' in x:\n",
    "            a, b = x.split('-')\n",
    "            return (float(a) + float(b)) / 2\n",
    "        return None\n",
    "\n",
    "df['total_sqft'] = df['total_sqft'].apply(convert_sqft)\n",
    "df = df.dropna()\n",
    "df = df[df['bath'] < df['bhk'] + 2]\n",
    "\n",
    "df['location'] = df['location'].apply(lambda x: x.strip())\n",
    "loc_counts = df['location'].value_counts()\n",
    "df['location'] = df['location'].apply(lambda x: 'other' if loc_counts[x] <= 10 else x)\n",
    "\n",
    "# One-hot encoding for location\n",
    "dummies = pd.get_dummies(df['location'], drop_first=True)\n",
    "df = pd.concat([df.drop('location', axis=1), dummies], axis=1)\n",
    "\n",
    "# Split data\n",
    "X = df.drop('price', axis=1)\n",
    "y = df['price']\n",
    "X_train, X_test, y_train, y_test = train_test_split(X, y, test_size=0.2, random_state=42)\n"
   ]
  },
  {
   "cell_type": "code",
   "execution_count": 2,
   "id": "e50d1ccd-f961-4fea-b774-3752c5709803",
   "metadata": {},
   "outputs": [
    {
     "name": "stdout",
     "output_type": "stream",
     "text": [
      "Linear Regression --> R²: 0.544, RMSE: 71.242\n",
      "Ridge Regression --> R²: 0.545, RMSE: 71.183\n",
      "Lasso Regression --> R²: 0.535, RMSE: 71.968\n",
      "Random Forest --> R²: 0.475, RMSE: 76.469\n",
      "Gradient Boosting --> R²: 0.449, RMSE: 78.288\n"
     ]
    }
   ],
   "source": [
    "def evaluate_model(model, name):\n",
    "    model.fit(X_train, y_train)\n",
    "    preds = model.predict(X_test)\n",
    "    r2 = r2_score(y_test, preds)\n",
    "    rmse = np.sqrt(mean_squared_error(y_test, preds))\n",
    "    print(f\"{name} --> R²: {r2:.3f}, RMSE: {rmse:.3f}\")\n",
    "\n",
    "# Linear Regression\n",
    "evaluate_model(LinearRegression(), \"Linear Regression\")\n",
    "\n",
    "# Ridge Regression\n",
    "evaluate_model(Ridge(alpha=1.0), \"Ridge Regression\")\n",
    "\n",
    "# Lasso Regression\n",
    "evaluate_model(Lasso(alpha=0.1), \"Lasso Regression\")\n",
    "\n",
    "# Random Forest Regressor\n",
    "evaluate_model(RandomForestRegressor(n_estimators=100, random_state=42), \"Random Forest\")\n",
    "\n",
    "# Gradient Boosting\n",
    "evaluate_model(GradientBoostingRegressor(n_estimators=100, random_state=42), \"Gradient Boosting\")\n"
   ]
  },
  {
   "cell_type": "code",
   "execution_count": 3,
   "id": "54419049-6f2f-4964-9478-cf4071f27d1e",
   "metadata": {},
   "outputs": [
    {
     "name": "stdout",
     "output_type": "stream",
     "text": [
      "Best Parameters: {'max_depth': 10, 'n_estimators': 100}\n",
      "Best R²: 0.5026422885067361\n"
     ]
    }
   ],
   "source": [
    "param_grid = {\n",
    "    'n_estimators': [50, 100],\n",
    "    'max_depth': [None, 10, 20]\n",
    "}\n",
    "\n",
    "grid = GridSearchCV(RandomForestRegressor(random_state=42), param_grid, cv=3, scoring='r2')\n",
    "grid.fit(X_train, y_train)\n",
    "\n",
    "print(\"Best Parameters:\", grid.best_params_)\n",
    "best_model = grid.best_estimator_\n",
    "\n",
    "# Evaluate best model\n",
    "y_pred = best_model.predict(X_test)\n",
    "print(\"Best R²:\", r2_score(y_test, y_pred))\n"
   ]
  }
 ],
 "metadata": {
  "kernelspec": {
   "display_name": "Python 3 (ipykernel)",
   "language": "python",
   "name": "python3"
  },
  "language_info": {
   "codemirror_mode": {
    "name": "ipython",
    "version": 3
   },
   "file_extension": ".py",
   "mimetype": "text/x-python",
   "name": "python",
   "nbconvert_exporter": "python",
   "pygments_lexer": "ipython3",
   "version": "3.12.7"
  }
 },
 "nbformat": 4,
 "nbformat_minor": 5
}
